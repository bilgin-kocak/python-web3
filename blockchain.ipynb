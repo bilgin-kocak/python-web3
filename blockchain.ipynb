{
  "nbformat": 4,
  "nbformat_minor": 0,
  "metadata": {
    "colab": {
      "name": "blockchain.ipynb",
      "provenance": [],
      "collapsed_sections": [
        "PfUI7YzN6mQl"
      ],
      "authorship_tag": "ABX9TyMzPLm989edzYc1jidjNtxv",
      "include_colab_link": true
    },
    "kernelspec": {
      "name": "python3",
      "display_name": "Python 3"
    },
    "language_info": {
      "name": "python"
    }
  },
  "cells": [
    {
      "cell_type": "markdown",
      "metadata": {
        "id": "view-in-github",
        "colab_type": "text"
      },
      "source": [
        "<a href=\"https://colab.research.google.com/github/bilgin-kocak/python-web3/blob/master/blockchain.ipynb\" target=\"_parent\"><img src=\"https://colab.research.google.com/assets/colab-badge.svg\" alt=\"Open In Colab\"/></a>"
      ]
    },
    {
      "cell_type": "markdown",
      "source": [
        "## Install Libraries"
      ],
      "metadata": {
        "id": "PfUI7YzN6mQl"
      }
    },
    {
      "cell_type": "code",
      "execution_count": 2,
      "metadata": {
        "colab": {
          "base_uri": "https://localhost:8080/"
        },
        "id": "bzDQUddB6dhE",
        "outputId": "6485ffc1-0de5-41e4-dcde-448e03da2294"
      },
      "outputs": [
        {
          "output_type": "stream",
          "name": "stdout",
          "text": [
            "Collecting web3\n",
            "  Downloading web3-5.29.0-py3-none-any.whl (500 kB)\n",
            "\u001b[K     |████████████████████████████████| 500 kB 4.1 MB/s \n",
            "\u001b[?25hCollecting ipfshttpclient==0.8.0a2\n",
            "  Downloading ipfshttpclient-0.8.0a2-py3-none-any.whl (82 kB)\n",
            "\u001b[K     |████████████████████████████████| 82 kB 666 kB/s \n",
            "\u001b[?25hCollecting lru-dict<2.0.0,>=1.1.6\n",
            "  Downloading lru-dict-1.1.7.tar.gz (10 kB)\n",
            "Requirement already satisfied: requests<3.0.0,>=2.16.0 in /usr/local/lib/python3.7/dist-packages (from web3) (2.23.0)\n",
            "Requirement already satisfied: jsonschema<5,>=3.2.0 in /usr/local/lib/python3.7/dist-packages (from web3) (4.3.3)\n",
            "Requirement already satisfied: protobuf<4,>=3.10.0 in /usr/local/lib/python3.7/dist-packages (from web3) (3.17.3)\n",
            "Collecting websockets<10,>=9.1\n",
            "  Downloading websockets-9.1-cp37-cp37m-manylinux2010_x86_64.whl (103 kB)\n",
            "\u001b[K     |████████████████████████████████| 103 kB 43.9 MB/s \n",
            "\u001b[?25hCollecting eth-account<0.6.0,>=0.5.7\n",
            "  Downloading eth_account-0.5.7-py3-none-any.whl (101 kB)\n",
            "\u001b[K     |████████████████████████████████| 101 kB 10.2 MB/s \n",
            "\u001b[?25hCollecting hexbytes<1.0.0,>=0.1.0\n",
            "  Downloading hexbytes-0.2.2-py3-none-any.whl (6.1 kB)\n",
            "Collecting eth-hash[pycryptodome]<1.0.0,>=0.2.0\n",
            "  Downloading eth_hash-0.3.2-py3-none-any.whl (8.8 kB)\n",
            "Requirement already satisfied: typing-extensions<5,>=3.7.4.1 in /usr/local/lib/python3.7/dist-packages (from web3) (4.1.1)\n",
            "Collecting eth-utils<2.0.0,>=1.9.5\n",
            "  Downloading eth_utils-1.10.0-py3-none-any.whl (24 kB)\n",
            "Collecting aiohttp<4,>=3.7.4.post0\n",
            "  Downloading aiohttp-3.8.1-cp37-cp37m-manylinux_2_5_x86_64.manylinux1_x86_64.manylinux_2_12_x86_64.manylinux2010_x86_64.whl (1.1 MB)\n",
            "\u001b[K     |████████████████████████████████| 1.1 MB 42.6 MB/s \n",
            "\u001b[?25hCollecting eth-abi<3.0.0,>=2.0.0b6\n",
            "  Downloading eth_abi-2.1.1-py3-none-any.whl (27 kB)\n",
            "Collecting eth-typing<3.0.0,>=2.0.0\n",
            "  Downloading eth_typing-2.3.0-py3-none-any.whl (6.2 kB)\n",
            "Collecting multiaddr>=0.0.7\n",
            "  Downloading multiaddr-0.0.9-py2.py3-none-any.whl (16 kB)\n",
            "Requirement already satisfied: charset-normalizer<3.0,>=2.0 in /usr/local/lib/python3.7/dist-packages (from aiohttp<4,>=3.7.4.post0->web3) (2.0.12)\n",
            "Collecting yarl<2.0,>=1.0\n",
            "  Downloading yarl-1.7.2-cp37-cp37m-manylinux_2_5_x86_64.manylinux1_x86_64.manylinux_2_12_x86_64.manylinux2010_x86_64.whl (271 kB)\n",
            "\u001b[K     |████████████████████████████████| 271 kB 58.3 MB/s \n",
            "\u001b[?25hCollecting async-timeout<5.0,>=4.0.0a3\n",
            "  Downloading async_timeout-4.0.2-py3-none-any.whl (5.8 kB)\n",
            "Collecting aiosignal>=1.1.2\n",
            "  Downloading aiosignal-1.2.0-py3-none-any.whl (8.2 kB)\n",
            "Collecting asynctest==0.13.0\n",
            "  Downloading asynctest-0.13.0-py3-none-any.whl (26 kB)\n",
            "Collecting frozenlist>=1.1.1\n",
            "  Downloading frozenlist-1.3.0-cp37-cp37m-manylinux_2_5_x86_64.manylinux1_x86_64.manylinux_2_17_x86_64.manylinux2014_x86_64.whl (144 kB)\n",
            "\u001b[K     |████████████████████████████████| 144 kB 70.0 MB/s \n",
            "\u001b[?25hCollecting multidict<7.0,>=4.5\n",
            "  Downloading multidict-6.0.2-cp37-cp37m-manylinux_2_17_x86_64.manylinux2014_x86_64.whl (94 kB)\n",
            "\u001b[K     |████████████████████████████████| 94 kB 2.7 MB/s \n",
            "\u001b[?25hRequirement already satisfied: attrs>=17.3.0 in /usr/local/lib/python3.7/dist-packages (from aiohttp<4,>=3.7.4.post0->web3) (21.4.0)\n",
            "Collecting parsimonious<0.9.0,>=0.8.0\n",
            "  Downloading parsimonious-0.8.1.tar.gz (45 kB)\n",
            "\u001b[K     |████████████████████████████████| 45 kB 2.4 MB/s \n",
            "\u001b[?25hCollecting eth-keys<0.4.0,>=0.3.4\n",
            "  Downloading eth_keys-0.3.4-py3-none-any.whl (21 kB)\n",
            "Collecting bitarray<1.3.0,>=1.2.1\n",
            "  Downloading bitarray-1.2.2.tar.gz (48 kB)\n",
            "\u001b[K     |████████████████████████████████| 48 kB 4.4 MB/s \n",
            "\u001b[?25hCollecting eth-keyfile<0.6.0,>=0.5.0\n",
            "  Downloading eth_keyfile-0.5.1-py3-none-any.whl (8.3 kB)\n",
            "Collecting eth-rlp<2,>=0.1.2\n",
            "  Downloading eth_rlp-0.3.0-py3-none-any.whl (5.0 kB)\n",
            "Collecting rlp<3,>=1.0.0\n",
            "  Downloading rlp-2.0.1-py2.py3-none-any.whl (20 kB)\n",
            "Collecting pycryptodome<4,>=3.6.6\n",
            "  Downloading pycryptodome-3.14.1-cp35-abi3-manylinux2010_x86_64.whl (2.0 MB)\n",
            "\u001b[K     |████████████████████████████████| 2.0 MB 58.0 MB/s \n",
            "\u001b[?25hCollecting cytoolz<1.0.0,>=0.9.0\n",
            "  Downloading cytoolz-0.11.2.tar.gz (481 kB)\n",
            "\u001b[K     |████████████████████████████████| 481 kB 66.8 MB/s \n",
            "\u001b[?25hRequirement already satisfied: toolz>=0.8.0 in /usr/local/lib/python3.7/dist-packages (from cytoolz<1.0.0,>=0.9.0->eth-keyfile<0.6.0,>=0.5.0->eth-account<0.6.0,>=0.5.7->web3) (0.11.2)\n",
            "Collecting eth-rlp<2,>=0.1.2\n",
            "  Downloading eth_rlp-0.2.1-py3-none-any.whl (5.0 kB)\n",
            "Requirement already satisfied: importlib-resources>=1.4.0 in /usr/local/lib/python3.7/dist-packages (from jsonschema<5,>=3.2.0->web3) (5.6.0)\n",
            "Requirement already satisfied: pyrsistent!=0.17.0,!=0.17.1,!=0.17.2,>=0.14.0 in /usr/local/lib/python3.7/dist-packages (from jsonschema<5,>=3.2.0->web3) (0.18.1)\n",
            "Requirement already satisfied: importlib-metadata in /usr/local/lib/python3.7/dist-packages (from jsonschema<5,>=3.2.0->web3) (4.11.3)\n",
            "Requirement already satisfied: zipp>=3.1.0 in /usr/local/lib/python3.7/dist-packages (from importlib-resources>=1.4.0->jsonschema<5,>=3.2.0->web3) (3.8.0)\n",
            "Collecting netaddr\n",
            "  Downloading netaddr-0.8.0-py2.py3-none-any.whl (1.9 MB)\n",
            "\u001b[K     |████████████████████████████████| 1.9 MB 45.6 MB/s \n",
            "\u001b[?25hCollecting varint\n",
            "  Downloading varint-1.0.2.tar.gz (1.9 kB)\n",
            "Requirement already satisfied: six in /usr/local/lib/python3.7/dist-packages (from multiaddr>=0.0.7->ipfshttpclient==0.8.0a2->web3) (1.15.0)\n",
            "Collecting base58\n",
            "  Downloading base58-2.1.1-py3-none-any.whl (5.6 kB)\n",
            "Requirement already satisfied: certifi>=2017.4.17 in /usr/local/lib/python3.7/dist-packages (from requests<3.0.0,>=2.16.0->web3) (2021.10.8)\n",
            "Requirement already satisfied: idna<3,>=2.5 in /usr/local/lib/python3.7/dist-packages (from requests<3.0.0,>=2.16.0->web3) (2.10)\n",
            "Requirement already satisfied: chardet<4,>=3.0.2 in /usr/local/lib/python3.7/dist-packages (from requests<3.0.0,>=2.16.0->web3) (3.0.4)\n",
            "Requirement already satisfied: urllib3!=1.25.0,!=1.25.1,<1.26,>=1.21.1 in /usr/local/lib/python3.7/dist-packages (from requests<3.0.0,>=2.16.0->web3) (1.24.3)\n",
            "Building wheels for collected packages: bitarray, cytoolz, lru-dict, parsimonious, varint\n",
            "  Building wheel for bitarray (setup.py) ... \u001b[?25l\u001b[?25hdone\n",
            "  Created wheel for bitarray: filename=bitarray-1.2.2-cp37-cp37m-linux_x86_64.whl size=107003 sha256=be6e2a940a43f03a768d78316d14da6490474c570398ce7caa8e2399fa0686ff\n",
            "  Stored in directory: /root/.cache/pip/wheels/91/c8/a0/4fb7317b7072d4b6a4366454e5bf229ff5bb9ba1f7de8ef90d\n",
            "  Building wheel for cytoolz (setup.py) ... \u001b[?25l\u001b[?25hdone\n",
            "  Created wheel for cytoolz: filename=cytoolz-0.11.2-cp37-cp37m-linux_x86_64.whl size=1230869 sha256=a92f059a542257ea8f8c5f69b7d877fb2efc12f492c31eeb26e091162eeb6194\n",
            "  Stored in directory: /root/.cache/pip/wheels/38/70/71/ca13ea3d36ccd0b3d0ec7d7a4ca67522048d695b556bba4f59\n",
            "  Building wheel for lru-dict (setup.py) ... \u001b[?25l\u001b[?25hdone\n",
            "  Created wheel for lru-dict: filename=lru_dict-1.1.7-cp37-cp37m-linux_x86_64.whl size=28403 sha256=89b83d981fe1c84d7497f09b88b1b8946b92cd6e1ed01336ca6c24066f47745f\n",
            "  Stored in directory: /root/.cache/pip/wheels/9d/0b/4e/aa8fec9833090cd52bcd76f92f9d95e1ee7b915c12093663b4\n",
            "  Building wheel for parsimonious (setup.py) ... \u001b[?25l\u001b[?25hdone\n",
            "  Created wheel for parsimonious: filename=parsimonious-0.8.1-py3-none-any.whl size=42723 sha256=96b186fc6f6610f1684cd35ffb9faaecab5e43a82516017d9bd4cb92f4b3d816\n",
            "  Stored in directory: /root/.cache/pip/wheels/88/5d/ba/f27d8af07306b65ee44f9d3f9cadea1db749a421a6db8a99bf\n",
            "  Building wheel for varint (setup.py) ... \u001b[?25l\u001b[?25hdone\n",
            "  Created wheel for varint: filename=varint-1.0.2-py3-none-any.whl size=1980 sha256=33b6a1915bfc11680cafabf36fba0f2d769edd6ac63faa614461df7d868090e0\n",
            "  Stored in directory: /root/.cache/pip/wheels/69/21/07/09f1c6a7d9b59377aa6d98da6efdd670f7ca40aabd93d02704\n",
            "Successfully built bitarray cytoolz lru-dict parsimonious varint\n",
            "Installing collected packages: eth-typing, eth-hash, cytoolz, eth-utils, varint, rlp, pycryptodome, parsimonious, netaddr, multidict, hexbytes, frozenlist, eth-keys, base58, yarl, multiaddr, eth-rlp, eth-keyfile, eth-abi, bitarray, asynctest, async-timeout, aiosignal, websockets, lru-dict, ipfshttpclient, eth-account, aiohttp, web3\n",
            "Successfully installed aiohttp-3.8.1 aiosignal-1.2.0 async-timeout-4.0.2 asynctest-0.13.0 base58-2.1.1 bitarray-1.2.2 cytoolz-0.11.2 eth-abi-2.1.1 eth-account-0.5.7 eth-hash-0.3.2 eth-keyfile-0.5.1 eth-keys-0.3.4 eth-rlp-0.2.1 eth-typing-2.3.0 eth-utils-1.10.0 frozenlist-1.3.0 hexbytes-0.2.2 ipfshttpclient-0.8.0a2 lru-dict-1.1.7 multiaddr-0.0.9 multidict-6.0.2 netaddr-0.8.0 parsimonious-0.8.1 pycryptodome-3.14.1 rlp-2.0.1 varint-1.0.2 web3-5.29.0 websockets-9.1 yarl-1.7.2\n"
          ]
        }
      ],
      "source": [
        "!pip install web3"
      ]
    },
    {
      "cell_type": "markdown",
      "source": [
        "## AVAX"
      ],
      "metadata": {
        "id": "fkUdtEuk6nN_"
      }
    },
    {
      "cell_type": "code",
      "source": [
        "from web3 import Web3\n",
        "from web3.middleware import geth_poa_middleware\n",
        "\n",
        "w3 = Web3(Web3.HTTPProvider('https://api.avax.network/ext/bc/C/rpc'))\n",
        "w3.middleware_onion.inject(geth_poa_middleware, layer=0)"
      ],
      "metadata": {
        "id": "dN68xPJa6hQP"
      },
      "execution_count": null,
      "outputs": []
    },
    {
      "cell_type": "code",
      "source": [
        "w3.eth.get_block('latest', full_transactions=True)"
      ],
      "metadata": {
        "colab": {
          "base_uri": "https://localhost:8080/"
        },
        "id": "6_mvSuPZ60Dk",
        "outputId": "1a5108ce-272a-43a3-c999-2dc6b9ca4bd6"
      },
      "execution_count": null,
      "outputs": [
        {
          "output_type": "execute_result",
          "data": {
            "text/plain": [
              "AttributeDict({'baseFeePerGas': 71223910568,\n",
              " 'blockExtraData': '0x',\n",
              " 'blockGasCost': '0x0',\n",
              " 'difficulty': 1,\n",
              " 'extDataGasUsed': '0x0',\n",
              " 'extDataHash': '0x56e81f171bcc55a6ff8345e692c0f86e5b48e01b996cadc001622fb5e363b421',\n",
              " 'gasLimit': 8000000,\n",
              " 'gasUsed': 1676834,\n",
              " 'hash': HexBytes('0x9ae1e0579ce5b3df660a6d95843487c6f1cf5a10040c7a58e2a61e436b2ad6c6'),\n",
              " 'logsBloom': HexBytes('0x0000000000004000280000000000000140044004200040000000000004000000000000080000000100002000000040000000000000000000000102000420040080000000000c00000000000c1040000018802002000400000000120080000400000000000200800000000001800008400000000000000800120004100000002000000220040000000001000000000800000001000000000201008000002000000200000242000040200000822000000000000000000c001000000180000080004000001200020008080020000000000000008800000400008000000a000030000010100800000000000000040000000000000000000000110000000400108000'),\n",
              " 'miner': '0x0100000000000000000000000000000000000000',\n",
              " 'mixHash': HexBytes('0x0000000000000000000000000000000000000000000000000000000000000000'),\n",
              " 'nonce': HexBytes('0x0000000000000000'),\n",
              " 'number': 13460639,\n",
              " 'parentHash': HexBytes('0x6c2128596157f727bbefa90950bc7bbe20fb47513dbe0d3367677544dbf32678'),\n",
              " 'proofOfAuthorityData': HexBytes('0x000000000000000000000000002fc5ca000000000000000000000000003711e80000000000000000000000000054b15e000000000000000000000000002445a300000000000000000000000000000000'),\n",
              " 'receiptsRoot': HexBytes('0x3b4eb5025eb2f2f4bbd2fc53bbfa63f5aec87f4087edb05863f50649097f8b85'),\n",
              " 'sha3Uncles': HexBytes('0x1dcc4de8dec75d7aab85b567b6ccd41ad312451b948a7413f0a142fd40d49347'),\n",
              " 'size': 8215,\n",
              " 'stateRoot': HexBytes('0x6a82e7dec553e857ad8af6e2fb7cd421b09db8f26d99b15c5f5d2f2e849494ea'),\n",
              " 'timestamp': 1650045121,\n",
              " 'totalDifficulty': 13460639,\n",
              " 'transactions': [AttributeDict({'blockHash': HexBytes('0x9ae1e0579ce5b3df660a6d95843487c6f1cf5a10040c7a58e2a61e436b2ad6c6'),\n",
              "   'blockNumber': 13460639,\n",
              "   'from': '0xe93685f3bBA03016F02bD1828BaDD6195988D950',\n",
              "   'gas': 507500,\n",
              "   'gasPrice': 85621709179,\n",
              "   'hash': HexBytes('0x5f7bc3bf798f10c721dfad5721e83c7ccfe64b21bd234e5e98e577c5234634fa'),\n",
              "   'input': '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',\n",
              "   'nonce': 4908,\n",
              "   'r': HexBytes('0x7705cd017b53ef07e2cda14ded664fb95462a78c02327e889a73c34cf4797ee7'),\n",
              "   's': HexBytes('0x21847a2b7e962c8792e57497fee76be262cbbf1f6c5d5c701bbab320613a93d9'),\n",
              "   'to': '0x6F475642a6e85809B1c36Fa62763669b1b48DD5B',\n",
              "   'transactionIndex': 0,\n",
              "   'type': '0x0',\n",
              "   'v': 86264,\n",
              "   'value': 0}),\n",
              "  AttributeDict({'accessList': [],\n",
              "   'blockHash': HexBytes('0x9ae1e0579ce5b3df660a6d95843487c6f1cf5a10040c7a58e2a61e436b2ad6c6'),\n",
              "   'blockNumber': 13460639,\n",
              "   'chainId': '0xa86a',\n",
              "   'from': '0xCd43b0a97d86B679CfB24DEDCf8b4aC5f1e2D537',\n",
              "   'gas': 211372,\n",
              "   'gasPrice': 73723910568,\n",
              "   'hash': HexBytes('0xffad178cd7307da025baafe5c884c2d569a397d1d014e8ce72de5f5e0792050e'),\n",
              "   'input': '0x3dc8d5ce0000000000000000000000000000000000000000000000000000000000434ae80000000000000000000000000000000000000000000000000000000000002445000000000000000000000000000000000000000000000000ea88dc75c01a0000',\n",
              "   'maxFeePerGas': 147240277876,\n",
              "   'maxPriorityFeePerGas': 2500000000,\n",
              "   'nonce': 843,\n",
              "   'r': HexBytes('0xd881f213cc9bf118f5d8692dad75cf748436102413e820fe36ca7fbaef7af864'),\n",
              "   's': HexBytes('0x30a07bf36ee3da0c94d1e453d62b7b7a803281a8a51e5a1fbe9e9fc1f382383a'),\n",
              "   'to': '0x82a85407BD612f52577909F4A58bfC6873f14DA8',\n",
              "   'transactionIndex': 1,\n",
              "   'type': '0x2',\n",
              "   'v': 0,\n",
              "   'value': 0}),\n",
              "  AttributeDict({'accessList': [],\n",
              "   'blockHash': HexBytes('0x9ae1e0579ce5b3df660a6d95843487c6f1cf5a10040c7a58e2a61e436b2ad6c6'),\n",
              "   'blockNumber': 13460639,\n",
              "   'chainId': '0xa86a',\n",
              "   'from': '0x6bBEA7d93F9C0E4D308398E03256073299afa422',\n",
              "   'gas': 55933,\n",
              "   'gasPrice': 72723910568,\n",
              "   'hash': HexBytes('0x7434504ee4a778a0d66abefd11de8e1491ce3496822616c4dd7e1db7a1405116'),\n",
              "   'input': '0x095ea7b30000000000000000000000001b02da8cb0d097eb8d57a175b88c7d8b47997506ffffffffffffffffffffffffffffffffffffffffffffffffffffffffffffffff',\n",
              "   'maxFeePerGas': 94755642138,\n",
              "   'maxPriorityFeePerGas': 1500000000,\n",
              "   'nonce': 162,\n",
              "   'r': HexBytes('0xe5242b3e74b4e0775677ab837c12662dd50c9c9239f596d7a60edb62a81fa3d4'),\n",
              "   's': HexBytes('0x1509cf62571e0425406080eb9f3f3729ecd4627e90047b0fb8a01b09923e595c'),\n",
              "   'to': '0x130966628846BFd36ff31a822705796e8cb8C18D',\n",
              "   'transactionIndex': 2,\n",
              "   'type': '0x2',\n",
              "   'v': 0,\n",
              "   'value': 0}),\n",
              "  AttributeDict({'accessList': [],\n",
              "   'blockHash': HexBytes('0x9ae1e0579ce5b3df660a6d95843487c6f1cf5a10040c7a58e2a61e436b2ad6c6'),\n",
              "   'blockNumber': 13460639,\n",
              "   'chainId': '0xa86a',\n",
              "   'from': '0x2aed219de5406AD5688Dc13c7a07625d6e80b009',\n",
              "   'gas': 317076,\n",
              "   'gasPrice': 72223910568,\n",
              "   'hash': HexBytes('0x317336f59f40cca806fc3a8a2a89a962d0ca01791c7db8f94b4652cf82377f4f'),\n",
              "   'input': '0x3dc8d5ce0000000000000000000000000000000000000000000000000000000000434d9300000000000000000000000000000000000000000000000000000000000110eb000000000000000000000000000000000000000000000000b445c02d10530000',\n",
              "   'maxFeePerGas': 150209027420,\n",
              "   'maxPriorityFeePerGas': 1000000000,\n",
              "   'nonce': 23568,\n",
              "   'r': HexBytes('0x7cf9cf750ee254dd1206de75020c5810fafe04c28693f9f77c728655b1f1c964'),\n",
              "   's': HexBytes('0x5240cf940bcd91551bf0f94b806c08a8056fdf67c0d5c9ca9eebf52d5b83b394'),\n",
              "   'to': '0x82a85407BD612f52577909F4A58bfC6873f14DA8',\n",
              "   'transactionIndex': 3,\n",
              "   'type': '0x2',\n",
              "   'v': 0,\n",
              "   'value': 0}),\n",
              "  AttributeDict({'accessList': [],\n",
              "   'blockHash': HexBytes('0x9ae1e0579ce5b3df660a6d95843487c6f1cf5a10040c7a58e2a61e436b2ad6c6'),\n",
              "   'blockNumber': 13460639,\n",
              "   'chainId': '0xa86a',\n",
              "   'from': '0x9a880A7461A99A2A9cdc60309357790D9385B48C',\n",
              "   'gas': 400000,\n",
              "   'gasPrice': 72223910568,\n",
              "   'hash': HexBytes('0xc990e2fe37b80e638b863495adacdba8430fd87834637f20426f67df00ac9b36'),\n",
              "   'input': '0x312d7bbc00000000000000000000000000000000000000000000000000000000004343db',\n",
              "   'maxFeePerGas': 107000000000,\n",
              "   'maxPriorityFeePerGas': 1000000000,\n",
              "   'nonce': 4448,\n",
              "   'r': HexBytes('0x315b3d18263136cd6df33819af9aed915a50dc667d8130c190830fe74436c96a'),\n",
              "   's': HexBytes('0x7dd0b8811ecbc49539d80d570438a9b9432690867b449437b97ad6daa4afe932'),\n",
              "   'to': '0x82a85407BD612f52577909F4A58bfC6873f14DA8',\n",
              "   'transactionIndex': 4,\n",
              "   'type': '0x2',\n",
              "   'v': 1,\n",
              "   'value': 0}),\n",
              "  AttributeDict({'accessList': [],\n",
              "   'blockHash': HexBytes('0x9ae1e0579ce5b3df660a6d95843487c6f1cf5a10040c7a58e2a61e436b2ad6c6'),\n",
              "   'blockNumber': 13460639,\n",
              "   'chainId': '0xa86a',\n",
              "   'from': '0xFD0f84E0aDb7512Ed384b07319a391DCFf2bFF7f',\n",
              "   'gas': 400000,\n",
              "   'gasPrice': 72223910568,\n",
              "   'hash': HexBytes('0x5183df274af4e2365b35c8ce4d3b026b934e250aa64b6f97df1a39b8a283c9c9'),\n",
              "   'input': '0x08873bfb0000000000000000000000000000000000000000000000000000000000434f3d00000000000000000000000000000000000000000000000000000000000112c6000000000000000000000000000000000000000000000000f9ccd8a1c5080000',\n",
              "   'maxFeePerGas': 107000000000,\n",
              "   'maxPriorityFeePerGas': 1000000000,\n",
              "   'nonce': 4861,\n",
              "   'r': HexBytes('0x137a376945cbd6aa5262ee1a71c4e8092fdaae9dc630fb2d4f5ca2c6cc1515cd'),\n",
              "   's': HexBytes('0x3c589616cfaed483e620d53e76291cea40e3bbb7c99641661d77dadab50a69be'),\n",
              "   'to': '0x82a85407BD612f52577909F4A58bfC6873f14DA8',\n",
              "   'transactionIndex': 5,\n",
              "   'type': '0x2',\n",
              "   'v': 1,\n",
              "   'value': 0}),\n",
              "  AttributeDict({'accessList': [],\n",
              "   'blockHash': HexBytes('0x9ae1e0579ce5b3df660a6d95843487c6f1cf5a10040c7a58e2a61e436b2ad6c6'),\n",
              "   'blockNumber': 13460639,\n",
              "   'chainId': '0xa86a',\n",
              "   'from': '0xcE57461b057FfE346FaF9A13597eBD61Da705aD4',\n",
              "   'gas': 197640,\n",
              "   'gasPrice': 72223910568,\n",
              "   'hash': HexBytes('0x067c87b5c186f72659a5b08a27da1548c141206d37b367cdf5d6b68cd421b246'),\n",
              "   'input': '0x2d6ef310000000000000000000000000000000000000000000000000000000000043155b',\n",
              "   'maxFeePerGas': 150394987586,\n",
              "   'maxPriorityFeePerGas': 1000000000,\n",
              "   'nonce': 6622,\n",
              "   'r': HexBytes('0x1e2ef77d880659c48e02ff1377365ffafe390ffa06e60785cd0acc6ca2ea304a'),\n",
              "   's': HexBytes('0x0b96c5af8bd0bee7fbc785174ff24b298ea99de3f490b2360480063c700d703f'),\n",
              "   'to': '0x82a85407BD612f52577909F4A58bfC6873f14DA8',\n",
              "   'transactionIndex': 6,\n",
              "   'type': '0x2',\n",
              "   'v': 1,\n",
              "   'value': 0}),\n",
              "  AttributeDict({'accessList': [],\n",
              "   'blockHash': HexBytes('0x9ae1e0579ce5b3df660a6d95843487c6f1cf5a10040c7a58e2a61e436b2ad6c6'),\n",
              "   'blockNumber': 13460639,\n",
              "   'chainId': '0xa86a',\n",
              "   'from': '0x318C48f42818aAcA5283Ed1ACD2F835012Cd3acD',\n",
              "   'gas': 197640,\n",
              "   'gasPrice': 72223910568,\n",
              "   'hash': HexBytes('0x498e9f1ff0e4b4281e31246f2e704e9128b27ab83dea54e216466ac64042c2c9'),\n",
              "   'input': '0x2d6ef310000000000000000000000000000000000000000000000000000000000043174c',\n",
              "   'maxFeePerGas': 150827186676,\n",
              "   'maxPriorityFeePerGas': 1000000000,\n",
              "   'nonce': 13714,\n",
              "   'r': HexBytes('0x027ead71937f4a5d46b9f4b5691777aeedc27933d5a621f9efe3e3cfe3235b11'),\n",
              "   's': HexBytes('0x6c4be845f7a958ac2788ec2f5593345742cd09b6edca7552b6688da828c6ad3d'),\n",
              "   'to': '0x82a85407BD612f52577909F4A58bfC6873f14DA8',\n",
              "   'transactionIndex': 7,\n",
              "   'type': '0x2',\n",
              "   'v': 1,\n",
              "   'value': 0}),\n",
              "  AttributeDict({'accessList': [],\n",
              "   'blockHash': HexBytes('0x9ae1e0579ce5b3df660a6d95843487c6f1cf5a10040c7a58e2a61e436b2ad6c6'),\n",
              "   'blockNumber': 13460639,\n",
              "   'chainId': '0xa86a',\n",
              "   'from': '0xAC0628764ca6DaBc12530F1Fb86b040d4A274D7C',\n",
              "   'gas': 400000,\n",
              "   'gasPrice': 72223910568,\n",
              "   'hash': HexBytes('0x288165d77c453edabd91e493f108d64f36ea9d0a2f83fcbeea683d999b8ea7c1'),\n",
              "   'input': '0x08873bfb0000000000000000000000000000000000000000000000000000000000435124000000000000000000000000000000000000000000000000000000000000bf6e000000000000000000000000000000000000000000000000f985cabce5860000',\n",
              "   'maxFeePerGas': 107000000000,\n",
              "   'maxPriorityFeePerGas': 1000000000,\n",
              "   'nonce': 41648,\n",
              "   'r': HexBytes('0x44f65e95ed721fdfc217b5f01954991830005c1a26a3ba55b7d4471a8c20ad82'),\n",
              "   's': HexBytes('0x42c7746a521e61e9143b519d8bd944141abd4fc794e813097261ceab1f983212'),\n",
              "   'to': '0x82a85407BD612f52577909F4A58bfC6873f14DA8',\n",
              "   'transactionIndex': 8,\n",
              "   'type': '0x2',\n",
              "   'v': 1,\n",
              "   'value': 0}),\n",
              "  AttributeDict({'accessList': [],\n",
              "   'blockHash': HexBytes('0x9ae1e0579ce5b3df660a6d95843487c6f1cf5a10040c7a58e2a61e436b2ad6c6'),\n",
              "   'blockNumber': 13460639,\n",
              "   'chainId': '0xa86a',\n",
              "   'from': '0xF5Bb22EA6aA87d6a4373C82374DE694efa6Bf8ee',\n",
              "   'gas': 197640,\n",
              "   'gasPrice': 72223910568,\n",
              "   'hash': HexBytes('0x1900e6ad59bb0dccbea91fd1ad650b9d3c123a1cadce4929d869d9a7315a7031'),\n",
              "   'input': '0x2d6ef31000000000000000000000000000000000000000000000000000000000004314d3',\n",
              "   'maxFeePerGas': 150988193218,\n",
              "   'maxPriorityFeePerGas': 1000000000,\n",
              "   'nonce': 10496,\n",
              "   'r': HexBytes('0x7c84b847d540129b144603673eb30f3b85467639c13af89dbeadcb0ca3db7cd9'),\n",
              "   's': HexBytes('0x0a04214ef15e32b9c392f577d543501735904d749c189a849eaf7f15635f5e7d'),\n",
              "   'to': '0x82a85407BD612f52577909F4A58bfC6873f14DA8',\n",
              "   'transactionIndex': 9,\n",
              "   'type': '0x2',\n",
              "   'v': 0,\n",
              "   'value': 0})],\n",
              " 'transactionsRoot': HexBytes('0x175ede366acbaabc191c2b1658c0001d5a0a4f3daa0ba19b1b8571f48fb1ac0f'),\n",
              " 'uncles': []})"
            ]
          },
          "metadata": {},
          "execution_count": 23
        }
      ]
    },
    {
      "cell_type": "code",
      "source": [
        "w3.eth.block_number"
      ],
      "metadata": {
        "colab": {
          "base_uri": "https://localhost:8080/"
        },
        "id": "B8DZIqeJ8-PG",
        "outputId": "aa8c2c27-d666-43e7-a320-3365143bd4f8"
      },
      "execution_count": null,
      "outputs": [
        {
          "output_type": "execute_result",
          "data": {
            "text/plain": [
              "13460486"
            ]
          },
          "metadata": {},
          "execution_count": 22
        }
      ]
    },
    {
      "cell_type": "markdown",
      "source": [
        "### Filter"
      ],
      "metadata": {
        "id": "Mk_NkEiFYxju"
      }
    },
    {
      "cell_type": "code",
      "source": [
        "filt = w3.eth.filter('latest')\n",
        "filt"
      ],
      "metadata": {
        "colab": {
          "base_uri": "https://localhost:8080/"
        },
        "id": "9uJLOX5vYzFN",
        "outputId": "161e2cf1-ccee-4ab1-fbca-4fc8129577bd"
      },
      "execution_count": null,
      "outputs": [
        {
          "output_type": "execute_result",
          "data": {
            "text/plain": [
              "<web3._utils.filters.BlockFilter at 0x7faf21eb5fd0>"
            ]
          },
          "metadata": {},
          "execution_count": 24
        }
      ]
    },
    {
      "cell_type": "code",
      "source": [
        "w3.eth.get_filter_changes(filt.filter_id)"
      ],
      "metadata": {
        "colab": {
          "base_uri": "https://localhost:8080/"
        },
        "id": "2QKo2y9RY3x8",
        "outputId": "f00037c1-125e-4c85-b758-d5652d0fbd64"
      },
      "execution_count": null,
      "outputs": [
        {
          "output_type": "execute_result",
          "data": {
            "text/plain": [
              "[HexBytes('0x64ac95bc61fd0a0b5352d3ceb35b04b274640b8f1f72a2c0f28954d6cd4cce4e')]"
            ]
          },
          "metadata": {},
          "execution_count": 31
        }
      ]
    },
    {
      "cell_type": "code",
      "source": [
        "w3.eth.get_block('0xf182faa60657e55ecbbd83de9c98a291d3dd0cdac87f2e6a54a7703c1cd7be15', full_transactions=False)"
      ],
      "metadata": {
        "colab": {
          "base_uri": "https://localhost:8080/"
        },
        "id": "X31S3bPXZEc6",
        "outputId": "db71f3e3-e8d9-4c6e-9647-9cfd6064b725"
      },
      "execution_count": null,
      "outputs": [
        {
          "output_type": "execute_result",
          "data": {
            "text/plain": [
              "AttributeDict({'baseFeePerGas': 88661963339,\n",
              " 'blockExtraData': '0x',\n",
              " 'blockGasCost': '0x30d40',\n",
              " 'difficulty': 1,\n",
              " 'extDataGasUsed': '0x0',\n",
              " 'extDataHash': '0x56e81f171bcc55a6ff8345e692c0f86e5b48e01b996cadc001622fb5e363b421',\n",
              " 'gasLimit': 8000000,\n",
              " 'gasUsed': 2549368,\n",
              " 'hash': HexBytes('0xf182faa60657e55ecbbd83de9c98a291d3dd0cdac87f2e6a54a7703c1cd7be15'),\n",
              " 'logsBloom': HexBytes('0x0000c00006000000000000400000000140008014240004008000000020000000000000000012000000000000000000000900000000000088000042000001000080400000001000000000000830002000100000100004200000000000c000040008000000020000000020000100000800000000000000080010000010000000000000002000000000000100000000000010000000000000040000000000200000200000a0020008004800008120000000020000000000000000200100000000000000005200000008000000002000040010000008801c00000000000040003080000010080a000000000000040000000000000000400000004000000000108500'),\n",
              " 'miner': '0x0100000000000000000000000000000000000000',\n",
              " 'mixHash': HexBytes('0x0000000000000000000000000000000000000000000000000000000000000000'),\n",
              " 'nonce': HexBytes('0x0000000000000000'),\n",
              " 'number': 13460945,\n",
              " 'parentHash': HexBytes('0x0b0d2e9c91a26ce14ced58579637609165b5543f2c1efbd99689e9da05df203c'),\n",
              " 'proofOfAuthorityData': HexBytes('0x000000000032b172000000000027e622000000000000000000000000002b8b010000000000000000000000000056ea6f0000000000000000000000000030663800000000000000000000000000000000'),\n",
              " 'receiptsRoot': HexBytes('0xfaecbe038a9b0967d2996322a9e11f608ab675e7d05d9930d02adb456ca8530a'),\n",
              " 'sha3Uncles': HexBytes('0x1dcc4de8dec75d7aab85b567b6ccd41ad312451b948a7413f0a142fd40d49347'),\n",
              " 'size': 4891,\n",
              " 'stateRoot': HexBytes('0x80c758569c173a4024d95a8d9aa2f392e5485333d402e55f8530b5207a3eb837'),\n",
              " 'timestamp': 1650045751,\n",
              " 'totalDifficulty': 13460945,\n",
              " 'transactions': [HexBytes('0x0b0d637abf49ca6b0b1da136171b43945fd2f839ff33aedb5d4a003996922e90'),\n",
              "  HexBytes('0x1e8046a8025468d160f08dbd2e67ac57c5877639ef49d87fb486f0bafd2be4b3'),\n",
              "  HexBytes('0x05fbd0ce245cb5483857547bbdb48143ba2127f5656b199f3e0cfdbc6e979e4b'),\n",
              "  HexBytes('0x9815f2305e90620bfe2bb939493e163b823dd7c00ffea3f6284646f694755b7c'),\n",
              "  HexBytes('0x9027d7080564cedafaceb981ee94f1ab0ca901a37b763aee5084464a19447226'),\n",
              "  HexBytes('0xa5c6e453d0755479d927366ab2e91252794df140f8c068a1f854fd65b31e0106'),\n",
              "  HexBytes('0x7bb1ea1179c209da4fdcb31a40d62966a9fd2be771aa0b16bb5f3a9cd5a9181a'),\n",
              "  HexBytes('0xf84880cdbef9181619cb871cd02d0572c437a9e0e6ff9969e6f4a61276c536e4'),\n",
              "  HexBytes('0xf25c850e036389beb822e67689e53d9559718733273c71da76f83fbc6c49395c'),\n",
              "  HexBytes('0xbeed65fe7d2f66b08fc19705cde203090789e5291341a0ea2c0764290d62481a'),\n",
              "  HexBytes('0xc85db0befd3651a1df92e61432aa659e046dbfa440f45b97e95be4219e139025'),\n",
              "  HexBytes('0x9c4fe94da737a12538b6412355eecf49ddcf97abee2857b08be1aef5d2978ccd'),\n",
              "  HexBytes('0xc9760269279f14d58b7cdaa261775db3d0b2b34b433d43209f7f27b8dd5272a7'),\n",
              "  HexBytes('0x1ca23396ae2de7c4d280685e02ffb89f06f1e287f190ea35c6766f764d68ed0f'),\n",
              "  HexBytes('0x6f5b82cac8877e6a26f5a03edaebcc0266c9551fe9564021f6129158af95b7c8'),\n",
              "  HexBytes('0xe39c090dfd110a0220e0c6f3110fba3142cd4511c079d4514fcae1e8f4d2a3e0'),\n",
              "  HexBytes('0xd3831abd92db05ebe213c3412cb7c2f55f75ab121ed9b81f596160c50940534d'),\n",
              "  HexBytes('0xa783871403d6086ba6bdf255b043e9fed8efb4b74b4f1b32313fd9d45d8292b9')],\n",
              " 'transactionsRoot': HexBytes('0x15ae6699813e2d751d0c52c478e81c19d76ff507b0d37e20bd197c9042759a18'),\n",
              " 'uncles': []})"
            ]
          },
          "metadata": {},
          "execution_count": 33
        }
      ]
    },
    {
      "cell_type": "code",
      "source": [
        "w3.eth.get_filter_logs(filt.filter_id)"
      ],
      "metadata": {
        "colab": {
          "base_uri": "https://localhost:8080/",
          "height": 311
        },
        "id": "wg310T8dZ6cz",
        "outputId": "5eca25b6-1f05-4521-ae4b-27e883f46507"
      },
      "execution_count": null,
      "outputs": [
        {
          "output_type": "error",
          "ename": "ValueError",
          "evalue": "ignored",
          "traceback": [
            "\u001b[0;31m---------------------------------------------------------------------------\u001b[0m",
            "\u001b[0;31mValueError\u001b[0m                                Traceback (most recent call last)",
            "\u001b[0;32m<ipython-input-34-404b06beb725>\u001b[0m in \u001b[0;36m<module>\u001b[0;34m()\u001b[0m\n\u001b[0;32m----> 1\u001b[0;31m \u001b[0mw3\u001b[0m\u001b[0;34m.\u001b[0m\u001b[0meth\u001b[0m\u001b[0;34m.\u001b[0m\u001b[0mget_filter_logs\u001b[0m\u001b[0;34m(\u001b[0m\u001b[0mfilt\u001b[0m\u001b[0;34m.\u001b[0m\u001b[0mfilter_id\u001b[0m\u001b[0;34m)\u001b[0m\u001b[0;34m\u001b[0m\u001b[0;34m\u001b[0m\u001b[0m\n\u001b[0m",
            "\u001b[0;32m/usr/local/lib/python3.7/dist-packages/web3/module.py\u001b[0m in \u001b[0;36mcaller\u001b[0;34m(*args, **kwargs)\u001b[0m\n\u001b[1;32m     58\u001b[0m                                              \u001b[0mparams\u001b[0m\u001b[0;34m,\u001b[0m\u001b[0;34m\u001b[0m\u001b[0;34m\u001b[0m\u001b[0m\n\u001b[1;32m     59\u001b[0m                                              \u001b[0merror_formatters\u001b[0m\u001b[0;34m,\u001b[0m\u001b[0;34m\u001b[0m\u001b[0;34m\u001b[0m\u001b[0m\n\u001b[0;32m---> 60\u001b[0;31m                                              null_result_formatters)\n\u001b[0m\u001b[1;32m     61\u001b[0m         \u001b[0;32mreturn\u001b[0m \u001b[0mapply_result_formatters\u001b[0m\u001b[0;34m(\u001b[0m\u001b[0mresult_formatters\u001b[0m\u001b[0;34m,\u001b[0m \u001b[0mresult\u001b[0m\u001b[0;34m)\u001b[0m\u001b[0;34m\u001b[0m\u001b[0;34m\u001b[0m\u001b[0m\n\u001b[1;32m     62\u001b[0m     \u001b[0;32mreturn\u001b[0m \u001b[0mcaller\u001b[0m\u001b[0;34m\u001b[0m\u001b[0;34m\u001b[0m\u001b[0m\n",
            "\u001b[0;32m/usr/local/lib/python3.7/dist-packages/web3/manager.py\u001b[0m in \u001b[0;36mrequest_blocking\u001b[0;34m(self, method, params, error_formatters, null_result_formatters)\u001b[0m\n\u001b[1;32m    199\u001b[0m                                        \u001b[0mparams\u001b[0m\u001b[0;34m,\u001b[0m\u001b[0;34m\u001b[0m\u001b[0;34m\u001b[0m\u001b[0m\n\u001b[1;32m    200\u001b[0m                                        \u001b[0merror_formatters\u001b[0m\u001b[0;34m,\u001b[0m\u001b[0;34m\u001b[0m\u001b[0;34m\u001b[0m\u001b[0m\n\u001b[0;32m--> 201\u001b[0;31m                                        null_result_formatters)\n\u001b[0m\u001b[1;32m    202\u001b[0m \u001b[0;34m\u001b[0m\u001b[0m\n\u001b[1;32m    203\u001b[0m     async def coro_request(\n",
            "\u001b[0;32m/usr/local/lib/python3.7/dist-packages/web3/manager.py\u001b[0m in \u001b[0;36mformatted_response\u001b[0;34m(response, params, error_formatters, null_result_formatters)\u001b[0m\n\u001b[1;32m    169\u001b[0m         \u001b[0;32mif\u001b[0m \u001b[0;34m\"error\"\u001b[0m \u001b[0;32min\u001b[0m \u001b[0mresponse\u001b[0m\u001b[0;34m:\u001b[0m\u001b[0;34m\u001b[0m\u001b[0;34m\u001b[0m\u001b[0m\n\u001b[1;32m    170\u001b[0m             \u001b[0mapply_error_formatters\u001b[0m\u001b[0;34m(\u001b[0m\u001b[0merror_formatters\u001b[0m\u001b[0;34m,\u001b[0m \u001b[0mresponse\u001b[0m\u001b[0;34m)\u001b[0m\u001b[0;34m\u001b[0m\u001b[0;34m\u001b[0m\u001b[0m\n\u001b[0;32m--> 171\u001b[0;31m             \u001b[0;32mraise\u001b[0m \u001b[0mValueError\u001b[0m\u001b[0;34m(\u001b[0m\u001b[0mresponse\u001b[0m\u001b[0;34m[\u001b[0m\u001b[0;34m\"error\"\u001b[0m\u001b[0;34m]\u001b[0m\u001b[0;34m)\u001b[0m\u001b[0;34m\u001b[0m\u001b[0;34m\u001b[0m\u001b[0m\n\u001b[0m\u001b[1;32m    172\u001b[0m         \u001b[0;31m# NULL_RESPONSES includes None, so return False here as the default\u001b[0m\u001b[0;34m\u001b[0m\u001b[0;34m\u001b[0m\u001b[0;34m\u001b[0m\u001b[0m\n\u001b[1;32m    173\u001b[0m         \u001b[0;31m# so we don't apply the null_result_formatters if there is no 'result' key\u001b[0m\u001b[0;34m\u001b[0m\u001b[0;34m\u001b[0m\u001b[0;34m\u001b[0m\u001b[0m\n",
            "\u001b[0;31mValueError\u001b[0m: {'code': -32000, 'message': 'filter not found'}"
          ]
        }
      ]
    },
    {
      "cell_type": "code",
      "source": [
        "w3.eth.uninstall_filter(filt.filter_id)"
      ],
      "metadata": {
        "colab": {
          "base_uri": "https://localhost:8080/"
        },
        "id": "ZHFrW8KUaIzk",
        "outputId": "bc3cb719-86dc-4af1-bcbc-fba43d19b39c"
      },
      "execution_count": null,
      "outputs": [
        {
          "output_type": "execute_result",
          "data": {
            "text/plain": [
              "True"
            ]
          },
          "metadata": {},
          "execution_count": 35
        }
      ]
    },
    {
      "cell_type": "code",
      "source": [
        "from web3.auto import w3\n",
        "import time\n",
        "\n",
        "def handle_event(event):\n",
        "    print(event)\n",
        "\n",
        "def log_loop(event_filter, poll_interval):\n",
        "    while True:\n",
        "        for event in event_filter.get_new_entries():\n",
        "            handle_event(event)\n",
        "        time.sleep(poll_interval)\n",
        "\n",
        "def main():\n",
        "    w3_ = Web3(Web3.HTTPProvider('https://api.avax.network/ext/bc/C/rpc'))\n",
        "\n",
        "    block_filter = w3_.eth.filter('latest')\n",
        "    log_loop(block_filter, 1)\n",
        "\n",
        "if __name__ == '__main__':\n",
        "    main()"
      ],
      "metadata": {
        "colab": {
          "base_uri": "https://localhost:8080/",
          "height": 373
        },
        "id": "DXcNzE6mgFZY",
        "outputId": "38b93cab-f0ca-4449-f8d1-337e15a6d94f"
      },
      "execution_count": 1,
      "outputs": [
        {
          "output_type": "error",
          "ename": "ModuleNotFoundError",
          "evalue": "ignored",
          "traceback": [
            "\u001b[0;31m---------------------------------------------------------------------------\u001b[0m",
            "\u001b[0;31mModuleNotFoundError\u001b[0m                       Traceback (most recent call last)",
            "\u001b[0;32m<ipython-input-1-a09e01599c30>\u001b[0m in \u001b[0;36m<module>\u001b[0;34m()\u001b[0m\n\u001b[0;32m----> 1\u001b[0;31m \u001b[0;32mfrom\u001b[0m \u001b[0mweb3\u001b[0m\u001b[0;34m.\u001b[0m\u001b[0mauto\u001b[0m \u001b[0;32mimport\u001b[0m \u001b[0mw3\u001b[0m\u001b[0;34m\u001b[0m\u001b[0;34m\u001b[0m\u001b[0m\n\u001b[0m\u001b[1;32m      2\u001b[0m \u001b[0;32mimport\u001b[0m \u001b[0mtime\u001b[0m\u001b[0;34m\u001b[0m\u001b[0;34m\u001b[0m\u001b[0m\n\u001b[1;32m      3\u001b[0m \u001b[0;34m\u001b[0m\u001b[0m\n\u001b[1;32m      4\u001b[0m \u001b[0;32mdef\u001b[0m \u001b[0mhandle_event\u001b[0m\u001b[0;34m(\u001b[0m\u001b[0mevent\u001b[0m\u001b[0;34m)\u001b[0m\u001b[0;34m:\u001b[0m\u001b[0;34m\u001b[0m\u001b[0;34m\u001b[0m\u001b[0m\n\u001b[1;32m      5\u001b[0m     \u001b[0mprint\u001b[0m\u001b[0;34m(\u001b[0m\u001b[0mevent\u001b[0m\u001b[0;34m)\u001b[0m\u001b[0;34m\u001b[0m\u001b[0;34m\u001b[0m\u001b[0m\n",
            "\u001b[0;31mModuleNotFoundError\u001b[0m: No module named 'web3'",
            "",
            "\u001b[0;31m---------------------------------------------------------------------------\u001b[0;32m\nNOTE: If your import is failing due to a missing package, you can\nmanually install dependencies using either !pip or !apt.\n\nTo view examples of installing some common dependencies, click the\n\"Open Examples\" button below.\n\u001b[0;31m---------------------------------------------------------------------------\u001b[0m\n"
          ],
          "errorDetails": {
            "actions": [
              {
                "action": "open_url",
                "actionText": "Open Examples",
                "url": "/notebooks/snippets/importing_libraries.ipynb"
              }
            ]
          }
        }
      ]
    }
  ]
}